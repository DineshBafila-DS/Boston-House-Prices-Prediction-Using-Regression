{
 "cells": [
  {
   "cell_type": "code",
   "execution_count": null,
   "metadata": {},
   "outputs": [],
   "source": [
    "import numpy as np\n",
    "import pandas as pd\n",
    "import matplotlib as mp\n",
    "import matplotlib.pyplot as plt\n",
    "from matplotlib.animation import FuncAnimation\n",
    "from sklearn.datasets import load_boston\n",
    "from sklearn.metrics import mean_squared_error\n",
    "from sklearn.preprocessing import MinMaxScaler\n",
    "from IPython.display import HTML"
   ]
  },
  {
   "cell_type": "markdown",
   "metadata": {},
   "source": [
    "Step 1:Data Preprocessing"
   ]
  },
  {
   "cell_type": "code",
   "execution_count": null,
   "metadata": {},
   "outputs": [],
   "source": [
    "#Load the dataset\n",
    "boston=load_boston()\n",
    "print(boston.DESCR)"
   ]
  },
  {
   "cell_type": "code",
   "execution_count": null,
   "metadata": {},
   "outputs": [],
   "source": [
    "#Put the data into pandas Dataframes\n",
    "features=pd.DataFrame(boston.data,columns=boston.feature_names)\n",
    "print(features)"
   ]
  },
  {
   "cell_type": "code",
   "execution_count": null,
   "metadata": {},
   "outputs": [],
   "source": [
    "#basic select feature age\n",
    "features['AGE']"
   ]
  },
  {
   "cell_type": "code",
   "execution_count": null,
   "metadata": {},
   "outputs": [],
   "source": [
    "target=pd.DataFrame(boston.target,columns=['target'])\n",
    "print(target)"
   ]
  },
  {
   "cell_type": "code",
   "execution_count": null,
   "metadata": {},
   "outputs": [],
   "source": [
    "#lets find out the minimum and maximum price of the house in boston\n",
    "max(target['target'])"
   ]
  },
  {
   "cell_type": "code",
   "execution_count": null,
   "metadata": {},
   "outputs": [],
   "source": [
    "min(target['target'])"
   ]
  },
  {
   "cell_type": "code",
   "execution_count": null,
   "metadata": {},
   "outputs": [],
   "source": [
    "#concatenate the features and target ino a single datag=frame, axis=1 makeit concatenate column wise\n",
    "df=pd.concat([features,target],axis=1)\n",
    "df"
   ]
  },
  {
   "cell_type": "code",
   "execution_count": null,
   "metadata": {},
   "outputs": [],
   "source": [
    "#Data visualization of Bh data\n",
    "df.describe().round(decimals=2)"
   ]
  },
  {
   "cell_type": "code",
   "execution_count": null,
   "metadata": {},
   "outputs": [],
   "source": [
    "#calculate of correlation between every column on the data\n",
    "corr=df.corr('pearson')"
   ]
  },
  {
   "cell_type": "code",
   "execution_count": null,
   "metadata": {},
   "outputs": [],
   "source": [
    "#Take absolute values of correlation\n",
    "corrs=[abs(corr[attr]['target']) for attr in list(features)]"
   ]
  },
  {
   "cell_type": "code",
   "execution_count": null,
   "metadata": {},
   "outputs": [],
   "source": [
    "#make a list of pairs[(corrs,features)]\n",
    "l=list(zip(corrs,list(features)))"
   ]
  },
  {
   "cell_type": "code",
   "execution_count": null,
   "metadata": {},
   "outputs": [],
   "source": [
    "#sort the list of pairs in reverse/descending order\n",
    "#with the correlation values as the key for sorting\n",
    "l.sort(key=lambda x:x[0],reverse=True)"
   ]
  },
  {
   "cell_type": "code",
   "execution_count": null,
   "metadata": {},
   "outputs": [],
   "source": [
    "corrs,labels=list(zip((*l)))"
   ]
  },
  {
   "cell_type": "code",
   "execution_count": null,
   "metadata": {},
   "outputs": [],
   "source": [
    "#plot the correlation with respect to the target variable s a bar graph\n",
    "index=np.arange(len(labels))\n",
    "plt.figure(figsize=(15,5))\n",
    "plt.bar(index,corrs,width=0.5)\n",
    "plt.xlabel('Attributes')\n",
    "plt.ylabel('correlation with the target variable')\n",
    "plt.xticks(index,labels)\n",
    "plt.show()"
   ]
  },
  {
   "cell_type": "code",
   "execution_count": null,
   "metadata": {},
   "outputs": [],
   "source": [
    "#we observe from the bar graph generated above , the LSTAT and and RM have the two hoghest absolute correltion values\n",
    "#Normalize the BH DATA\n",
    "X=df['LSTAT'].values\n",
    "Y=df['target'].values"
   ]
  },
  {
   "cell_type": "code",
   "execution_count": null,
   "metadata": {},
   "outputs": [],
   "source": [
    "#berfore normalization of data\n",
    "print(Y[:5])"
   ]
  },
  {
   "cell_type": "code",
   "execution_count": null,
   "metadata": {},
   "outputs": [],
   "source": [
    "#perform normalization\n",
    "x_scaler=MinMaxScaler()\n",
    "X=x_scaler.fit_transform(X.reshape(-1,1))\n",
    "y_scaler=MinMaxScaler()\n",
    "Y=y_scaler.fit_transform(Y.reshape(-1,1))"
   ]
  },
  {
   "cell_type": "code",
   "execution_count": null,
   "metadata": {},
   "outputs": [],
   "source": [
    "#after normalization\n",
    "print(Y[:5])"
   ]
  },
  {
   "cell_type": "markdown",
   "metadata": {},
   "source": [
    "Step-2 Define error\n",
    "Means squared erroe"
   ]
  },
  {
   "cell_type": "code",
   "execution_count": null,
   "metadata": {},
   "outputs": [],
   "source": [
    "def error(m,x,c,t):\n",
    "    N=x.size\n",
    "    e=sum(((m*x+c)-t)**2)\n",
    "    return e*1/(2*N)"
   ]
  },
  {
   "cell_type": "markdown",
   "metadata": {},
   "source": [
    "Step-3 Split the boston house dataset"
   ]
  },
  {
   "cell_type": "code",
   "execution_count": null,
   "metadata": {},
   "outputs": [],
   "source": [
    "from sklearn.model_selection import train_test_split\n",
    "xtrain,xtest,ytrain,ytest=train_test_split(X,Y,test_size=0.2)"
   ]
  },
  {
   "cell_type": "code",
   "execution_count": null,
   "metadata": {},
   "outputs": [],
   "source": [
    "#define update function\n",
    "def update(m,x,c,t,learning_rate):\n",
    "    grad_m=sum(2*((m*x+c)-t)*x)\n",
    "    grad_c=sum(2*((m*x+c)-t))\n",
    "    m=m-grad_m*learning_rate\n",
    "    c=c-grad_c*learning_rate\n",
    "    return m,c"
   ]
  },
  {
   "cell_type": "code",
   "execution_count": null,
   "metadata": {},
   "outputs": [],
   "source": [
    "#define gradient descent funtion\n",
    "def gradient_descent(init_m,init_c,x,t,learning_rate,iterations,error_threshold):\n",
    "    m=init_m\n",
    "    c=init_c\n",
    "    error_values=list()\n",
    "    mc_values=list()\n",
    "    for i in range(iterations):\n",
    "        e = error(m,x,c,t)\n",
    "        if e < error_threshold:\n",
    "            print(\"Error less than the threshold .stopping gradient descent\")\n",
    "            break\n",
    "        error_values.append(e)\n",
    "        m,c=update(m,x,c,t,learning_rate)\n",
    "        mc_values.append((m,c))\n",
    "    return m,c,error_values,mc_values"
   ]
  },
  {
   "cell_type": "code",
   "execution_count": null,
   "metadata": {},
   "outputs": [],
   "source": [
    "#Running descent function\n",
    "#%%time\n",
    "init_m=0.9\n",
    "init_c=0\n",
    "learning_rate=0.001\n",
    "iterations=250\n",
    "error_threshold=0.001\n",
    "m,c,error_values,mc_values=gradient_descent(init_m,init_c,xtrain,ytrain,learning_rate,iterations,error_threshold)\n"
   ]
  },
  {
   "cell_type": "code",
   "execution_count": null,
   "metadata": {},
   "outputs": [],
   "source": [
    "#Model Training Visualization\n",
    "mc_values_anim=mc_values[0:250:5]"
   ]
  },
  {
   "cell_type": "code",
   "execution_count": null,
   "metadata": {
    "scrolled": true
   },
   "outputs": [],
   "source": [
    "fig,ax=plt.subplots()\n",
    "ln,=plt.plot([],[],'ro-',animated=True)\n",
    "\n",
    "def init():\n",
    "    plt.scatter(xtest,ytest,color='g')\n",
    "    ax.set_xlim(0,1.0)\n",
    "    ax.set_ylim(0,1.0)\n",
    "    return ln,\n",
    "\n",
    "def update_frame(frame):\n",
    "    m,c=mc_values_anim[frame]\n",
    "    x1,y1=-0.5, m * -.5 + c\n",
    "    x2,y2=1.5, m * 1.5 + c\n",
    "    ln.set_data([x1,x2],[y1,y2])\n",
    "    return ln,\n",
    "anim=FuncAnimation(fig, update_frame, frames=range(len(mc_values_anim)),init_func=init,blit=True)\n",
    "HTML(anim.to_html5_video())\n"
   ]
  },
  {
   "cell_type": "code",
   "execution_count": null,
   "metadata": {},
   "outputs": [],
   "source": [
    "#Error visualization\n",
    "#plotting tge regression line upon the training dataset\n",
    "plt.scatter(xtrain, ytrain,color='b')\n",
    "plt.plot(xtrain, (m * xtrain + c),color='r')"
   ]
  },
  {
   "cell_type": "code",
   "execution_count": null,
   "metadata": {},
   "outputs": [],
   "source": [
    "plt.plot(np.arange(len(error_values)),error_values)\n",
    "plt.ylabel('error')\n",
    "plt.xlabel('Iteration')"
   ]
  },
  {
   "cell_type": "markdown",
   "metadata": {},
   "source": [
    "Prediction\n"
   ]
  },
  {
   "cell_type": "code",
   "execution_count": null,
   "metadata": {},
   "outputs": [],
   "source": [
    "#calculate the prediction on the test set as a vectorized operation\n",
    "predicted=(m*xtest)+c"
   ]
  },
  {
   "cell_type": "code",
   "execution_count": null,
   "metadata": {},
   "outputs": [],
   "source": [
    "#compute MSE for the predicted values on the testing set\n",
    "mean_squared_error(ytest,predicted)"
   ]
  },
  {
   "cell_type": "code",
   "execution_count": null,
   "metadata": {},
   "outputs": [],
   "source": [
    "p=pd.DataFrame(list(zip(xtest,ytest,predicted)),columns=['x','target_y','predicted_y'])\n",
    "p.head()"
   ]
  },
  {
   "cell_type": "code",
   "execution_count": null,
   "metadata": {},
   "outputs": [],
   "source": [
    "#plot the predicted values gainst the target values\n",
    "plt.scatter(xtest,ytest,color='b')\n",
    "plt.plot(xtest,predicted,color='r')"
   ]
  },
  {
   "cell_type": "markdown",
   "metadata": {},
   "source": [
    "Revert normalization to obtain the predicted price of the house in $1000s"
   ]
  },
  {
   "cell_type": "code",
   "execution_count": null,
   "metadata": {},
   "outputs": [],
   "source": [
    "predicted=predicted.reshape(-1,1)\n",
    "xtest=xtest.reshape(-1,1)\n",
    "ytest=ytest.reshape(-1,1)\n",
    "\n",
    "\n",
    "xtest_scaled=x_scaler.inverse_transform(xtest)\n",
    "ytest_scaled=y_scaler.inverse_transform(ytest)\n",
    "predicted_scaled=y_scaler.inverse_transform(predicted)\n",
    "\n",
    "#This is to remove extra dimension\n",
    "\n",
    "xtest_scaled=xtest_scaled[:,-1]\n",
    "ytest_scaled=ytest_scaled[:,-1]\n",
    "predicted_scaled=predicted_scaled[:,-1]\n",
    "p=pd.DataFrame(list(zip(xtest_scaled,ytest_scaled,predicted_scaled)),columns=['x','target_y','predicted_y'])\n",
    "p=p.round(decimals=2)\n",
    "p.head()"
   ]
  },
  {
   "cell_type": "code",
   "execution_count": null,
   "metadata": {},
   "outputs": [],
   "source": []
  }
 ],
 "metadata": {
  "kernelspec": {
   "display_name": "Python 3",
   "language": "python",
   "name": "python3"
  },
  "language_info": {
   "codemirror_mode": {
    "name": "ipython",
    "version": 3
   },
   "file_extension": ".py",
   "mimetype": "text/x-python",
   "name": "python",
   "nbconvert_exporter": "python",
   "pygments_lexer": "ipython3",
   "version": "3.7.3"
  }
 },
 "nbformat": 4,
 "nbformat_minor": 2
}
